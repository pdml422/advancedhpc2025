{
  "nbformat": 4,
  "nbformat_minor": 0,
  "metadata": {
    "colab": {
      "provenance": [],
      "gpuType": "T4"
    },
    "kernelspec": {
      "name": "python3",
      "display_name": "Python 3"
    },
    "language_info": {
      "name": "python"
    },
    "accelerator": "GPU"
  },
  "cells": [
    {
      "cell_type": "code",
      "execution_count": 28,
      "metadata": {
        "id": "8I7tX-RLoI2Q"
      },
      "outputs": [],
      "source": [
        "from numba import cuda"
      ]
    },
    {
      "cell_type": "code",
      "source": [
        "cuda.detect()"
      ],
      "metadata": {
        "colab": {
          "base_uri": "https://localhost:8080/"
        },
        "id": "PctodWx3qioC",
        "outputId": "061bab4c-832c-4523-fe3b-629472ceeef5"
      },
      "execution_count": 29,
      "outputs": [
        {
          "output_type": "stream",
          "name": "stdout",
          "text": [
            "Found 1 CUDA devices\n",
            "id 0             b'Tesla T4'                              [SUPPORTED]\n",
            "                      Compute Capability: 7.5\n",
            "                           PCI Device ID: 4\n",
            "                              PCI Bus ID: 0\n",
            "                                    UUID: GPU-deb40af1-ac20-b010-bf3e-aee2dd1fd797\n",
            "                                Watchdog: Disabled\n",
            "             FP32/FP64 Performance Ratio: 32\n",
            "Summary:\n",
            "\t1/1 devices are supported\n"
          ]
        },
        {
          "output_type": "execute_result",
          "data": {
            "text/plain": [
              "True"
            ]
          },
          "metadata": {},
          "execution_count": 29
        }
      ]
    },
    {
      "cell_type": "code",
      "source": [
        "device = cuda.select_device(0)\n",
        "device_name = device.name\n",
        "compute_capability = device.compute_capability\n",
        "multiprocessor_count = device.MULTIPROCESSOR_COUNT\n",
        "\n",
        "cores_per_multiprocessor = 64\n",
        "total_core_count = multiprocessor_count * cores_per_multiprocessor\n",
        "free_memory, total_memory = cuda.current_context().get_memory_info()\n",
        "total_memory_gb = total_memory // (1024**2)\n",
        "\n",
        "print(f\"Device Name: {device_name}\")\n",
        "print(f\"Compute Capability: {compute_capability}\")\n",
        "print(f\"Multiprocessor Count: {multiprocessor_count}\")\n",
        "print(f\"Core Count: {total_core_count}\")\n",
        "print(f\"Memory Size: {total_memory_gb} MB\")"
      ],
      "metadata": {
        "colab": {
          "base_uri": "https://localhost:8080/"
        },
        "id": "OPGRWyyn3SO1",
        "outputId": "f6fe3efd-d776-4668-838f-e616d662b05c"
      },
      "execution_count": 42,
      "outputs": [
        {
          "output_type": "stream",
          "name": "stdout",
          "text": [
            "Device Name: b'Tesla T4'\n",
            "Compute Capability: (7, 5)\n",
            "Multiprocessor Count: 40\n",
            "Core Count: 2560\n",
            "Memory Size: 15095 MB\n"
          ]
        }
      ]
    }
  ]
}